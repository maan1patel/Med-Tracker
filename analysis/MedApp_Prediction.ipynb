{
 "cells": [
  {
   "cell_type": "code",
   "execution_count": 1,
   "metadata": {},
   "outputs": [],
   "source": [
    "#Import packages\n",
    "import pandas as pd\n",
    "from sklearn.feature_extraction import FeatureHasher\n",
    "from functools import reduce\n",
    "import numpy as np"
   ]
  },
  {
   "cell_type": "markdown",
   "metadata": {},
   "source": [
    "### Load Raw Data"
   ]
  },
  {
   "cell_type": "code",
   "execution_count": 125,
   "metadata": {},
   "outputs": [],
   "source": [
    "#Load data and convert user id to numeric\n",
    "df = pd.read_csv('fd-export.csv', low_memory=False)\n",
    "df['user_id'] = df['user_id'].astype('category')\n",
    "df['user_id'] = df['user_id'].cat.codes\n"
   ]
  },
  {
   "cell_type": "code",
   "execution_count": 148,
   "metadata": {},
   "outputs": [
    {
     "data": {
      "text/plain": [
       "array(['Condition', 'Symptom', 'Weather', 'Treatment', 'Tag', 'Food',\n",
       "       'HBI'], dtype=object)"
      ]
     },
     "execution_count": 148,
     "metadata": {},
     "output_type": "execute_result"
    }
   ],
   "source": [
    "df['trackable_type'].unique()"
   ]
  },
  {
   "cell_type": "markdown",
   "metadata": {},
   "source": [
    "### Extract information"
   ]
  },
  {
   "cell_type": "code",
   "execution_count": 172,
   "metadata": {},
   "outputs": [
    {
     "name": "stderr",
     "output_type": "stream",
     "text": [
      "/anaconda3/envs/insight/lib/python3.6/site-packages/ipykernel_launcher.py:6: SettingWithCopyWarning: \n",
      "A value is trying to be set on a copy of a slice from a DataFrame.\n",
      "Try using .loc[row_indexer,col_indexer] = value instead\n",
      "\n",
      "See the caveats in the documentation: http://pandas.pydata.org/pandas-docs/stable/indexing.html#indexing-view-versus-copy\n",
      "  \n"
     ]
    },
    {
     "data": {
      "text/html": [
       "<div>\n",
       "<style scoped>\n",
       "    .dataframe tbody tr th:only-of-type {\n",
       "        vertical-align: middle;\n",
       "    }\n",
       "\n",
       "    .dataframe tbody tr th {\n",
       "        vertical-align: top;\n",
       "    }\n",
       "\n",
       "    .dataframe thead th {\n",
       "        text-align: right;\n",
       "    }\n",
       "</style>\n",
       "<table border=\"1\" class=\"dataframe\">\n",
       "  <thead>\n",
       "    <tr style=\"text-align: right;\">\n",
       "      <th></th>\n",
       "      <th></th>\n",
       "      <th>Abdominal pain</th>\n",
       "      <th>Anxiety</th>\n",
       "      <th>Back pain</th>\n",
       "      <th>Bloating</th>\n",
       "      <th>Brain fog</th>\n",
       "      <th>Chest pain</th>\n",
       "      <th>Chronic pain</th>\n",
       "      <th>Constipation</th>\n",
       "      <th>Depression</th>\n",
       "      <th>Diarrhea</th>\n",
       "      <th>...</th>\n",
       "      <th>Nausea</th>\n",
       "      <th>Neck pain</th>\n",
       "      <th>Shortness of breath</th>\n",
       "      <th>Shoulder pain</th>\n",
       "      <th>Sore throat</th>\n",
       "      <th>Stomach Pain</th>\n",
       "      <th>Stomach cramps</th>\n",
       "      <th>Vomiting</th>\n",
       "      <th>Weakness</th>\n",
       "      <th>Wrist pain</th>\n",
       "    </tr>\n",
       "    <tr>\n",
       "      <th>user_id</th>\n",
       "      <th>checkin_date</th>\n",
       "      <th></th>\n",
       "      <th></th>\n",
       "      <th></th>\n",
       "      <th></th>\n",
       "      <th></th>\n",
       "      <th></th>\n",
       "      <th></th>\n",
       "      <th></th>\n",
       "      <th></th>\n",
       "      <th></th>\n",
       "      <th></th>\n",
       "      <th></th>\n",
       "      <th></th>\n",
       "      <th></th>\n",
       "      <th></th>\n",
       "      <th></th>\n",
       "      <th></th>\n",
       "      <th></th>\n",
       "      <th></th>\n",
       "      <th></th>\n",
       "      <th></th>\n",
       "    </tr>\n",
       "  </thead>\n",
       "  <tbody>\n",
       "    <tr>\n",
       "      <th>0</th>\n",
       "      <th>2/15/17</th>\n",
       "      <td>0</td>\n",
       "      <td>0</td>\n",
       "      <td>0</td>\n",
       "      <td>0</td>\n",
       "      <td>0</td>\n",
       "      <td>0</td>\n",
       "      <td>0</td>\n",
       "      <td>0</td>\n",
       "      <td>0</td>\n",
       "      <td>0</td>\n",
       "      <td>...</td>\n",
       "      <td>0</td>\n",
       "      <td>0</td>\n",
       "      <td>0</td>\n",
       "      <td>0</td>\n",
       "      <td>0</td>\n",
       "      <td>0</td>\n",
       "      <td>0</td>\n",
       "      <td>0</td>\n",
       "      <td>0</td>\n",
       "      <td>0</td>\n",
       "    </tr>\n",
       "  </tbody>\n",
       "</table>\n",
       "<p>1 rows × 37 columns</p>\n",
       "</div>"
      ],
      "text/plain": [
       "                      Abdominal pain  Anxiety  Back pain  Bloating  Brain fog  \\\n",
       "user_id checkin_date                                                            \n",
       "0       2/15/17                    0        0          0         0          0   \n",
       "\n",
       "                      Chest pain  Chronic pain  Constipation  Depression  \\\n",
       "user_id checkin_date                                                       \n",
       "0       2/15/17                0             0             0           0   \n",
       "\n",
       "                      Diarrhea     ...      Nausea  Neck pain  \\\n",
       "user_id checkin_date               ...                          \n",
       "0       2/15/17              0     ...           0          0   \n",
       "\n",
       "                      Shortness of breath  Shoulder pain  Sore throat  \\\n",
       "user_id checkin_date                                                    \n",
       "0       2/15/17                         0              0            0   \n",
       "\n",
       "                      Stomach Pain  Stomach cramps  Vomiting  Weakness  \\\n",
       "user_id checkin_date                                                     \n",
       "0       2/15/17                  0               0         0         0   \n",
       "\n",
       "                      Wrist pain  \n",
       "user_id checkin_date              \n",
       "0       2/15/17                0  \n",
       "\n",
       "[1 rows x 37 columns]"
      ]
     },
     "execution_count": 172,
     "metadata": {},
     "output_type": "execute_result"
    }
   ],
   "source": [
    "#Extract symptoms\n",
    "df2 = df.loc[df['trackable_type'] == 'Symptom']\n",
    "#Filter most commonly reported symptoms in dataset\n",
    "df_symptoms = df2.groupby(\"trackable_name\").filter(lambda x: len(x) > 1999)\n",
    "\n",
    "df_symptoms['trackable_value'] = df_symptoms['trackable_value'].astype('int16')\n",
    "\n",
    "y = df_symptoms.pivot_table(index='user_id', columns='trackable_name', values='trackable_value')\n",
    "df_symptom = df_symptoms.join(y).drop(['trackable_id', 'trackable_type', 'trackable_value', 'trackable_name'], axis=1)\n",
    "df_symptom = df_symptom.fillna(0)\n",
    "df_grouped = df_symptom.groupby(['user_id', 'checkin_date'])[\n",
    " 'Abdominal pain',\n",
    " 'Anxiety',\n",
    " 'Back pain',\n",
    " 'Bloating',\n",
    " 'Brain fog',\n",
    " 'Chest pain',\n",
    " 'Chronic pain',\n",
    " 'Constipation',\n",
    " 'Depression',\n",
    " 'Diarrhea',\n",
    " 'Difficulty concentrating',\n",
    " 'Dizziness',\n",
    " 'Dull',\n",
    " 'Fatigue',\n",
    " 'Fatigue and tiredness',\n",
    " 'Foot pain',\n",
    " 'Hand pain',\n",
    " 'Headache',\n",
    " 'Hip pain',\n",
    " 'Insomnia',\n",
    " 'Irritability',\n",
    " 'Joint pain',\n",
    " 'Knee pain',\n",
    " 'Leg pain',\n",
    " 'Lower Back Pain',\n",
    " 'Migraine',\n",
    " 'Muscle pain',\n",
    " 'Nausea',\n",
    " 'Neck pain',\n",
    " 'Shortness of breath',\n",
    " 'Shoulder pain',\n",
    " 'Sore throat',\n",
    " 'Stomach Pain',\n",
    " 'Stomach cramps',\n",
    " 'Vomiting',\n",
    " 'Weakness',\n",
    " 'Wrist pain'].apply(lambda x : x.astype(int).sum())\n",
    "#df_symptom['all']=df_symptom.iloc[:,5:-1].sum(axis=1)\n",
    "#df_symptom.drop(df_symptom.columns[5:-1], axis=1, inplace=True)\n",
    "df_grouped.head(1)"
   ]
  },
  {
   "cell_type": "code",
   "execution_count": 169,
   "metadata": {},
   "outputs": [
    {
     "name": "stderr",
     "output_type": "stream",
     "text": [
      "/anaconda3/envs/insight/lib/python3.6/site-packages/ipykernel_launcher.py:1: UserWarning: Pandas doesn't allow columns to be created via a new attribute name - see https://pandas.pydata.org/pandas-docs/stable/indexing.html#attribute-access\n",
      "  \"\"\"Entry point for launching an IPython kernel.\n"
     ]
    }
   ],
   "source": [
    "df_grouped.checkin_date = pd.to_datetime(df_grouped.iloc[1])"
   ]
  },
  {
   "cell_type": "code",
   "execution_count": null,
   "metadata": {},
   "outputs": [],
   "source": []
  },
  {
   "cell_type": "code",
   "execution_count": 25,
   "metadata": {},
   "outputs": [
    {
     "data": {
      "text/plain": [
       "(67909, 6)"
      ]
     },
     "execution_count": 25,
     "metadata": {},
     "output_type": "execute_result"
    }
   ],
   "source": [
    "#Extract treatments\n",
    "df3 = df.loc[df['trackable_type'] == 'Treatment']\n",
    "df4 = df3[(df3.trackable_name != 'Exercise') & (df3.trackable_name != 'Yoga') & (df3.trackable_name != 'Sleep') & (df3.trackable_name != 'Meditation')]\n",
    "\n",
    "#Filter most commonly reported treatments in dataset\n",
    "df_treatments = df4.groupby(\"trackable_name\").filter(lambda x: len(x) > 99)\n",
    "df_treatments = df_treatments.drop(['trackable_id', 'trackable_type', 'trackable_value'], axis=1)\n",
    "df_treatments = df_treatments.rename(index=str, columns={\"trackable_name\": \"treatment\"})\n",
    "df_treatments.shape"
   ]
  },
  {
   "cell_type": "code",
   "execution_count": 26,
   "metadata": {},
   "outputs": [
    {
     "data": {
      "text/plain": [
       "(11838, 6)"
      ]
     },
     "execution_count": 26,
     "metadata": {},
     "output_type": "execute_result"
    }
   ],
   "source": [
    "#Extract food\n",
    "df2 = df.loc[df['trackable_type'] == 'Food']\n",
    "#Filter most commonly reported food in dataset\n",
    "df_food = df2.groupby(\"trackable_name\").filter(lambda x: len(x) > 499).drop(['trackable_id', 'trackable_type', 'trackable_value'], axis=1)\n",
    "df_food = df_food.rename(index=str, columns={\"trackable_name\": \"food\"})\n",
    "df_food.shape"
   ]
  },
  {
   "cell_type": "code",
   "execution_count": 27,
   "metadata": {},
   "outputs": [
    {
     "data": {
      "text/plain": [
       "(30457, 6)"
      ]
     },
     "execution_count": 27,
     "metadata": {},
     "output_type": "execute_result"
    }
   ],
   "source": [
    "#Extract lifestyle tags\n",
    "df4 = df.loc[df['trackable_type'] == 'Tag']\n",
    "#Filter most commonly reported tags in dataset\n",
    "df_tag = df4.groupby(\"trackable_id\").filter(lambda x: len(x) > 999).drop(['trackable_id', 'trackable_type', 'trackable_value'], axis=1)\n",
    "#Rename column\n",
    "df_tag = df_tag.rename(index=str, columns={\"trackable_name\": \"lifestyle\"})\n",
    "df_tag.shape"
   ]
  },
  {
   "cell_type": "code",
   "execution_count": 174,
   "metadata": {},
   "outputs": [
    {
     "name": "stderr",
     "output_type": "stream",
     "text": [
      "/anaconda3/envs/insight/lib/python3.6/site-packages/ipykernel_launcher.py:6: SettingWithCopyWarning: \n",
      "A value is trying to be set on a copy of a slice from a DataFrame.\n",
      "Try using .loc[row_indexer,col_indexer] = value instead\n",
      "\n",
      "See the caveats in the documentation: http://pandas.pydata.org/pandas-docs/stable/indexing.html#indexing-view-versus-copy\n",
      "  \n"
     ]
    },
    {
     "data": {
      "text/html": [
       "<div>\n",
       "<style scoped>\n",
       "    .dataframe tbody tr th:only-of-type {\n",
       "        vertical-align: middle;\n",
       "    }\n",
       "\n",
       "    .dataframe tbody tr th {\n",
       "        vertical-align: top;\n",
       "    }\n",
       "\n",
       "    .dataframe thead th {\n",
       "        text-align: right;\n",
       "    }\n",
       "</style>\n",
       "<table border=\"1\" class=\"dataframe\">\n",
       "  <thead>\n",
       "    <tr style=\"text-align: right;\">\n",
       "      <th></th>\n",
       "      <th>user_id</th>\n",
       "      <th>age</th>\n",
       "      <th>sex</th>\n",
       "      <th>country</th>\n",
       "      <th>checkin_date</th>\n",
       "      <th>Allergies</th>\n",
       "      <th>Anxiety</th>\n",
       "      <th>Arthritis</th>\n",
       "      <th>Asthma</th>\n",
       "      <th>Back pain</th>\n",
       "      <th>...</th>\n",
       "      <th>Insomnia</th>\n",
       "      <th>Irritable bowel syndrome</th>\n",
       "      <th>Lupus</th>\n",
       "      <th>Lyme disease</th>\n",
       "      <th>Migraine</th>\n",
       "      <th>POTS</th>\n",
       "      <th>Postural Orthostatic Tachycardia Syndrome</th>\n",
       "      <th>Rheumatoid arthritis</th>\n",
       "      <th>Ulcerative colitis</th>\n",
       "      <th>joint pain</th>\n",
       "    </tr>\n",
       "  </thead>\n",
       "  <tbody>\n",
       "    <tr>\n",
       "      <th>0</th>\n",
       "      <td>2365</td>\n",
       "      <td>NaN</td>\n",
       "      <td>NaN</td>\n",
       "      <td>NaN</td>\n",
       "      <td>11/26/15</td>\n",
       "      <td>NaN</td>\n",
       "      <td>1.0</td>\n",
       "      <td>NaN</td>\n",
       "      <td>NaN</td>\n",
       "      <td>NaN</td>\n",
       "      <td>...</td>\n",
       "      <td>NaN</td>\n",
       "      <td>NaN</td>\n",
       "      <td>NaN</td>\n",
       "      <td>NaN</td>\n",
       "      <td>1.0</td>\n",
       "      <td>NaN</td>\n",
       "      <td>NaN</td>\n",
       "      <td>NaN</td>\n",
       "      <td>NaN</td>\n",
       "      <td>NaN</td>\n",
       "    </tr>\n",
       "    <tr>\n",
       "      <th>1</th>\n",
       "      <td>5859</td>\n",
       "      <td>31.0</td>\n",
       "      <td>male</td>\n",
       "      <td>US</td>\n",
       "      <td>11/26/15</td>\n",
       "      <td>NaN</td>\n",
       "      <td>NaN</td>\n",
       "      <td>NaN</td>\n",
       "      <td>NaN</td>\n",
       "      <td>NaN</td>\n",
       "      <td>...</td>\n",
       "      <td>NaN</td>\n",
       "      <td>NaN</td>\n",
       "      <td>NaN</td>\n",
       "      <td>NaN</td>\n",
       "      <td>NaN</td>\n",
       "      <td>NaN</td>\n",
       "      <td>NaN</td>\n",
       "      <td>NaN</td>\n",
       "      <td>2.0</td>\n",
       "      <td>4.0</td>\n",
       "    </tr>\n",
       "  </tbody>\n",
       "</table>\n",
       "<p>2 rows × 36 columns</p>\n",
       "</div>"
      ],
      "text/plain": [
       "   user_id   age   sex country checkin_date  Allergies  Anxiety  Arthritis  \\\n",
       "0     2365   NaN   NaN     NaN     11/26/15        NaN      1.0        NaN   \n",
       "1     5859  31.0  male      US     11/26/15        NaN      NaN        NaN   \n",
       "\n",
       "   Asthma  Back pain     ...      Insomnia  Irritable bowel syndrome  Lupus  \\\n",
       "0     NaN        NaN     ...           NaN                       NaN    NaN   \n",
       "1     NaN        NaN     ...           NaN                       NaN    NaN   \n",
       "\n",
       "   Lyme disease  Migraine  POTS  Postural Orthostatic Tachycardia Syndrome  \\\n",
       "0           NaN       1.0   NaN                                        NaN   \n",
       "1           NaN       NaN   NaN                                        NaN   \n",
       "\n",
       "   Rheumatoid arthritis  Ulcerative colitis  joint pain  \n",
       "0                   NaN                 NaN         NaN  \n",
       "1                   NaN                 2.0         4.0  \n",
       "\n",
       "[2 rows x 36 columns]"
      ]
     },
     "execution_count": 174,
     "metadata": {},
     "output_type": "execute_result"
    }
   ],
   "source": [
    "#Extract conditions\n",
    "df5 = df.loc[df['trackable_type'] == 'Condition']\n",
    "#Filter most commonly reported symptoms in dataset\n",
    "df_condition = df5.groupby(\"trackable_id\").filter(lambda x: len(x) > 999)\n",
    "\n",
    "df_condition['trackable_value'] = df_condition['trackable_value'].astype('int16')\n",
    "\n",
    "y = df_condition.pivot_table(index='user_id', columns='trackable_name', values='trackable_value')\n",
    "df_conditions = df_condition.join(y).drop(['trackable_id', 'trackable_type', 'trackable_value', 'trackable_name'], axis=1)\n",
    "\n",
    "df_conditions.head(2)\n",
    "#df_symptom = df_symptom.fillna(0)\n",
    "#df_grouped = df_symptom.groupby(['user_id', 'checkin_date'])[\n",
    "# 'Abdominal pain',\n",
    "# 'Wrist pain'].apply(lambda x : x.astype(int).sum())\n",
    "#df_symptom['all']=df_symptom.iloc[:,5:-1].sum(axis=1)\n",
    "#df_symptom.drop(df_symptom.columns[5:-1], axis=1, inplace=True)\n",
    "#df_grouped.head(1)\n",
    "\n",
    "#y = df_condition.reset_index().pivot_table(index='user_id', columns='trackable_name', values='trackable_value')\n",
    "#df_conditions = df_condition.join(y).drop(['trackable_id', 'trackable_type', 'trackable_name', 'trackable_value'], axis=1)\n",
    "#df_conditions['all'] = df_conditions.iloc[:,5:-1].sum(axis=1)\n",
    "#df_conditions.drop(df_conditions.columns[5:-1], axis=1, inplace=True)\n",
    "#df_conditions.shape"
   ]
  },
  {
   "cell_type": "code",
   "execution_count": 362,
   "metadata": {},
   "outputs": [],
   "source": [
    "df_conditions"
   ]
  },
  {
   "cell_type": "code",
   "execution_count": 32,
   "metadata": {},
   "outputs": [
    {
     "data": {
      "text/plain": [
       "(18765, 8)"
      ]
     },
     "execution_count": 32,
     "metadata": {},
     "output_type": "execute_result"
    }
   ],
   "source": [
    "dfs = [df_tag, df_food, df_treatments]\n",
    "df_merge1 = reduce(lambda left,right: pd.merge(left,right,on=['user_id', 'checkin_date']), dfs)\n",
    "df_merge1 = df_merge1.drop(['age_x', 'sex_x', 'country_x','age_y', 'sex_y', 'country_y'], axis=1)\n",
    "df_merge1.shape"
   ]
  },
  {
   "cell_type": "code",
   "execution_count": 392,
   "metadata": {},
   "outputs": [],
   "source": []
  },
  {
   "cell_type": "code",
   "execution_count": 119,
   "metadata": {},
   "outputs": [
    {
     "data": {
      "text/plain": [
       "(209878, 10)"
      ]
     },
     "execution_count": 119,
     "metadata": {},
     "output_type": "execute_result"
    }
   ],
   "source": [
    "dft = [df_merge1, df_conditions, df_symptom]\n",
    "df_final = reduce(lambda left,right: pd.merge(left,right,on=['user_id', 'checkin_date']), dft)\n",
    "df_final1 = df_final.drop(['age_x', 'sex_x', 'country_x','age_y', 'sex_y', 'country_y'], axis=1)\n",
    "df_final1.shape"
   ]
  },
  {
   "cell_type": "code",
   "execution_count": 123,
   "metadata": {},
   "outputs": [
    {
     "data": {
      "text/html": [
       "<div>\n",
       "<style scoped>\n",
       "    .dataframe tbody tr th:only-of-type {\n",
       "        vertical-align: middle;\n",
       "    }\n",
       "\n",
       "    .dataframe tbody tr th {\n",
       "        vertical-align: top;\n",
       "    }\n",
       "\n",
       "    .dataframe thead th {\n",
       "        text-align: right;\n",
       "    }\n",
       "</style>\n",
       "<table border=\"1\" class=\"dataframe\">\n",
       "  <thead>\n",
       "    <tr style=\"text-align: right;\">\n",
       "      <th></th>\n",
       "      <th>user_id</th>\n",
       "      <th>checkin_date</th>\n",
       "      <th>lifestyle</th>\n",
       "      <th>food</th>\n",
       "      <th>treatment</th>\n",
       "      <th>all_x</th>\n",
       "      <th>age</th>\n",
       "      <th>sex</th>\n",
       "      <th>country</th>\n",
       "      <th>all_y</th>\n",
       "    </tr>\n",
       "  </thead>\n",
       "  <tbody>\n",
       "    <tr>\n",
       "      <th>0</th>\n",
       "      <td>1305</td>\n",
       "      <td>3/16/17</td>\n",
       "      <td>tired</td>\n",
       "      <td>coffee</td>\n",
       "      <td>Cymbalta</td>\n",
       "      <td>0.0</td>\n",
       "      <td>48.0</td>\n",
       "      <td>female</td>\n",
       "      <td>US</td>\n",
       "      <td>0.000000</td>\n",
       "    </tr>\n",
       "    <tr>\n",
       "      <th>1</th>\n",
       "      <td>1305</td>\n",
       "      <td>3/16/17</td>\n",
       "      <td>tired</td>\n",
       "      <td>coffee</td>\n",
       "      <td>Cymbalta</td>\n",
       "      <td>0.0</td>\n",
       "      <td>48.0</td>\n",
       "      <td>female</td>\n",
       "      <td>US</td>\n",
       "      <td>3.000000</td>\n",
       "    </tr>\n",
       "    <tr>\n",
       "      <th>2</th>\n",
       "      <td>1305</td>\n",
       "      <td>3/16/17</td>\n",
       "      <td>tired</td>\n",
       "      <td>coffee</td>\n",
       "      <td>Cymbalta</td>\n",
       "      <td>0.0</td>\n",
       "      <td>48.0</td>\n",
       "      <td>female</td>\n",
       "      <td>US</td>\n",
       "      <td>10.000000</td>\n",
       "    </tr>\n",
       "    <tr>\n",
       "      <th>3</th>\n",
       "      <td>880</td>\n",
       "      <td>7/31/17</td>\n",
       "      <td>tired</td>\n",
       "      <td>pizza</td>\n",
       "      <td>Tramadol</td>\n",
       "      <td>7.0</td>\n",
       "      <td>37.0</td>\n",
       "      <td>female</td>\n",
       "      <td>BE</td>\n",
       "      <td>12.333333</td>\n",
       "    </tr>\n",
       "    <tr>\n",
       "      <th>4</th>\n",
       "      <td>880</td>\n",
       "      <td>7/31/17</td>\n",
       "      <td>tired</td>\n",
       "      <td>pizza</td>\n",
       "      <td>Tramadol</td>\n",
       "      <td>7.0</td>\n",
       "      <td>37.0</td>\n",
       "      <td>female</td>\n",
       "      <td>BE</td>\n",
       "      <td>13.000000</td>\n",
       "    </tr>\n",
       "  </tbody>\n",
       "</table>\n",
       "</div>"
      ],
      "text/plain": [
       "   user_id checkin_date lifestyle    food treatment  all_x   age     sex  \\\n",
       "0     1305      3/16/17     tired  coffee  Cymbalta    0.0  48.0  female   \n",
       "1     1305      3/16/17     tired  coffee  Cymbalta    0.0  48.0  female   \n",
       "2     1305      3/16/17     tired  coffee  Cymbalta    0.0  48.0  female   \n",
       "3      880      7/31/17     tired   pizza  Tramadol    7.0  37.0  female   \n",
       "4      880      7/31/17     tired   pizza  Tramadol    7.0  37.0  female   \n",
       "\n",
       "  country      all_y  \n",
       "0      US   0.000000  \n",
       "1      US   3.000000  \n",
       "2      US  10.000000  \n",
       "3      BE  12.333333  \n",
       "4      BE  13.000000  "
      ]
     },
     "execution_count": 123,
     "metadata": {},
     "output_type": "execute_result"
    }
   ],
   "source": [
    "dedup = df_final1.drop_duplicates()"
   ]
  },
  {
   "cell_type": "code",
   "execution_count": 124,
   "metadata": {},
   "outputs": [],
   "source": [
    "dedup.to_csv('dedup.csv', sep=',')"
   ]
  },
  {
   "cell_type": "code",
   "execution_count": 102,
   "metadata": {},
   "outputs": [],
   "source": [
    "df_final1.checkin_date = pd.to_datetime(df_final1.checkin_date)"
   ]
  },
  {
   "cell_type": "code",
   "execution_count": null,
   "metadata": {},
   "outputs": [],
   "source": [
    "dataframe = df_final1.set_index('checkin_date')\n",
    "dataframe.drop_duplicates()\n",
    "dataframe = dataframe.fillna(0)\n",
    "dataframe.sort_values(by=['user_id', 'checkin_date'])"
   ]
  },
  {
   "cell_type": "code",
   "execution_count": 112,
   "metadata": {},
   "outputs": [],
   "source": [
    "dataframe.to_csv('time.csv', sep=',')"
   ]
  },
  {
   "cell_type": "code",
   "execution_count": 106,
   "metadata": {},
   "outputs": [
    {
     "data": {
      "image/png": "[encoded data removed]",
      "text/plain": [
       "<Figure size 1440x720 with 1 Axes>"
      ]
     },
     "metadata": {},
     "output_type": "display_data"
    }
   ],
   "source": [
    "import matplotlib.pyplot as plt\n",
    "%matplotlib inline\n",
    "x = dataframe.fillna(0)\n",
    "\n",
    "anxiety = dataframe[['user_id']] \n",
    "anxiety.rolling(12).count().plot(figsize=(20,10), linewidth=5, fontsize=20) \n",
    "plt.xlabel('Year', fontsize=30);"
   ]
  },
  {
   "cell_type": "code",
   "execution_count": null,
   "metadata": {},
   "outputs": [],
   "source": []
  },
  {
   "cell_type": "code",
   "execution_count": 282,
   "metadata": {},
   "outputs": [],
   "source": [
    "df5 = df.loc[df['trackable_type'] == 'Condition']"
   ]
  },
  {
   "cell_type": "code",
   "execution_count": null,
   "metadata": {},
   "outputs": [],
   "source": []
  },
  {
   "cell_type": "code",
   "execution_count": null,
   "metadata": {},
   "outputs": [],
   "source": []
  },
  {
   "cell_type": "code",
   "execution_count": 285,
   "metadata": {},
   "outputs": [],
   "source": [
    "df_condition = df5.groupby(\"trackable_id\").filter(lambda x: len(x) > 999)"
   ]
  },
  {
   "cell_type": "code",
   "execution_count": null,
   "metadata": {},
   "outputs": [],
   "source": []
  },
  {
   "cell_type": "code",
   "execution_count": 257,
   "metadata": {},
   "outputs": [],
   "source": [
    "df4 = df.loc[df['trackable_type'] == 'Tag']"
   ]
  },
  {
   "cell_type": "code",
   "execution_count": 273,
   "metadata": {},
   "outputs": [],
   "source": [
    "df_tag = df4.groupby(\"trackable_id\").filter(lambda x: len(x) > 149)"
   ]
  },
  {
   "cell_type": "code",
   "execution_count": 277,
   "metadata": {},
   "outputs": [],
   "source": []
  },
  {
   "cell_type": "code",
   "execution_count": null,
   "metadata": {},
   "outputs": [],
   "source": []
  },
  {
   "cell_type": "code",
   "execution_count": null,
   "metadata": {},
   "outputs": [],
   "source": []
  },
  {
   "cell_type": "code",
   "execution_count": null,
   "metadata": {},
   "outputs": [],
   "source": []
  },
  {
   "cell_type": "code",
   "execution_count": 240,
   "metadata": {},
   "outputs": [],
   "source": []
  },
  {
   "cell_type": "code",
   "execution_count": 201,
   "metadata": {},
   "outputs": [],
   "source": [
    "'''\n",
    "#Get doses of medications entered\n",
    "result = df_treatments['trackable_value'].str.split('(\\d+(\\.\\d)) ([A-z]+)', expand=True)\n",
    "result = result.loc[:,[1,2]]\n",
    "result.rename(columns={1:'x', 2:'y'}, inplace=True)\n",
    "df_treatments = df_treatments.join(result).drop(['trackable_value'], axis=1)\n",
    "df_treatments['x'] = df_treatments['x'].astype('float')\n",
    "y = df_treatments.reset_index().pivot_table(index='user_id', columns='trackable_name', values='x')\n",
    "df_treatment = df_treatments.join(y).drop(['trackable_id', 'trackable_type', 'trackable_name', 'x', 'y'], axis=1)\n",
    "'''"
   ]
  },
  {
   "cell_type": "code",
   "execution_count": null,
   "metadata": {},
   "outputs": [],
   "source": []
  },
  {
   "cell_type": "code",
   "execution_count": 233,
   "metadata": {},
   "outputs": [],
   "source": [
    "\n"
   ]
  },
  {
   "cell_type": "code",
   "execution_count": null,
   "metadata": {},
   "outputs": [],
   "source": [
    "df_treatment = pd.concat([df_treatments, df_treatments_hash], ignore_index=True)\n",
    "df_treatment.head(5)"
   ]
  },
  {
   "cell_type": "code",
   "execution_count": null,
   "metadata": {},
   "outputs": [],
   "source": []
  },
  {
   "cell_type": "code",
   "execution_count": 39,
   "metadata": {},
   "outputs": [],
   "source": [
    "#b = DataFrame(a.var1.str.split(',').tolist(), index=a.var2).stack()\n",
    "#b = b.reset_index()[[0, 'var2']] # var1 variable is currently labeled 0\n",
    "#b.columns = ['var1', 'var2'] # renaming var1\n",
    "b = pd.DataFrame(df_treatments.trackable_value.str.split(' ').tolist(), index=df_treatments.user_id).stack()\n",
    "b = b.reset_index()[[0, 'user_id']]\n",
    "b.columns = ['var1', 'var2']\n",
    "\n",
    "#z = df_treatments.reset_index().pivot_table(index='user_id', columns='trackable_name', values='trackable_value')\n",
    "#df_treatments = df_treatments.join(z).drop(['trackable_id', 'trackable_type', 'trackable_name', 'trackable_value'], axis=1)"
   ]
  },
  {
   "cell_type": "code",
   "execution_count": null,
   "metadata": {},
   "outputs": [],
   "source": []
  }
 ],
 "metadata": {
  "kernelspec": {
   "display_name": "Python 3",
   "language": "python",
   "name": "python3"
  },
  "language_info": {
   "codemirror_mode": {
    "name": "ipython",
    "version": 3
   },
   "file_extension": ".py",
   "mimetype": "text/x-python",
   "name": "python",
   "nbconvert_exporter": "python",
   "pygments_lexer": "ipython3",
   "version": "3.6.6"
  }
 },
 "nbformat": 4,
 "nbformat_minor": 2
}
